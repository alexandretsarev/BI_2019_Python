{
 "cells": [
  {
   "cell_type": "markdown",
   "metadata": {},
   "source": [
    "1. Составить список из чисел от 1 до 1000, которые имеют в своём составе 7.\n",
    "\n",
    "2. Взять предложение **Would it save you a lot of time if I just gave up and went mad now?** и сделать его же без гласных. **up:** можно оставить в виде списка слов и не собирать строку.\n",
    "\n",
    "3. Для предложения **The ships hung in the sky in much the same way that bricks don't** составить словарь, где слову соответствует его длина.\n",
    "\n",
    "Следующие две сложные* и потребуют вложенных lc:\n",
    "\n",
    "4. Для чисел от 1 до 1000 наибольшая цифра, на которую они делятся (1-9).\n",
    "\n",
    "5. Список всех чисел от 1 до 1000, не имеющих делителей среди чисел от 2 до 9."
   ]
  },
  {
   "cell_type": "code",
   "execution_count": 1,
   "metadata": {},
   "outputs": [],
   "source": [
    "# Задача 1\n",
    "result_1 = [number for number in range(1000) if '7' in str(number) ]\n"
   ]
  },
  {
   "cell_type": "code",
   "execution_count": 184,
   "metadata": {},
   "outputs": [
    {
     "data": {
      "text/plain": [
       "'Wld t sv lt f tm f jst gv p nd wnt md nw?'"
      ]
     },
     "execution_count": 184,
     "metadata": {},
     "output_type": "execute_result"
    }
   ],
   "source": [
    "# Задача 2\n",
    "import re\n",
    "string = 'Would it save you a lot of time if I just gave up and went mad now?'\n",
    "' '.join([re.sub(r'[aeiouy]', '', word, flags=re.IGNORECASE) for word in string.split() \\\n",
    "        if re.search(r'[^aeiouy]', word, flags=re.IGNORECASE)])\n",
    "# на всякий случай проверяем, есть ли в слове что-то кроме гласных перед их удалением, чтобы в результирующем\n",
    "# предложении не было лишних пропусков; может этого и не стоило делать, но на всякий случай"
   ]
  },
  {
   "cell_type": "code",
   "execution_count": 102,
   "metadata": {},
   "outputs": [
    {
     "data": {
      "text/plain": [
       "{'The': 3,\n",
       " 'ships': 5,\n",
       " 'hung': 4,\n",
       " 'in': 2,\n",
       " 'the': 3,\n",
       " 'sky': 3,\n",
       " 'much': 4,\n",
       " 'same': 4,\n",
       " 'way': 3,\n",
       " 'that': 4,\n",
       " 'bricks': 6,\n",
       " \"don't\": 5}"
      ]
     },
     "execution_count": 102,
     "metadata": {},
     "output_type": "execute_result"
    }
   ],
   "source": [
    "# Задача 3\n",
    "string = \"The ships hung in the sky in much the same way that bricks don't\"\n",
    "word_len_dict = {}\n",
    "[word_len_dict.update({word:len(word)}) for word in string.split() if word not in word_len_dict.keys()][1]\n",
    "word_len_dict"
   ]
  },
  {
   "cell_type": "code",
   "execution_count": 2,
   "metadata": {},
   "outputs": [],
   "source": [
    "# Задание 4\n",
    "result_4 = [x for x in range(1000+1) if all((x % n != 0 for n in range(10, x)))]\n"
   ]
  },
  {
   "cell_type": "code",
   "execution_count": 143,
   "metadata": {},
   "outputs": [],
   "source": [
    "# Задание 5 (попробовал фильтром еще, правда он хуже читается)\n",
    "result_5_1 = [x for x in range(1000+1) if all((x % n for n in range(2, 9+1)))]\n",
    "\n",
    "result_5_2 = list(filter(lambda x: all(x % y for y in range(2, 9+1)), list(range(1000+1))))"
   ]
  },
  {
   "cell_type": "code",
   "execution_count": null,
   "metadata": {},
   "outputs": [],
   "source": []
  }
 ],
 "metadata": {
  "kernelspec": {
   "display_name": "Python 3",
   "language": "python",
   "name": "python3"
  },
  "language_info": {
   "codemirror_mode": {
    "name": "ipython",
    "version": 3
   },
   "file_extension": ".py",
   "mimetype": "text/x-python",
   "name": "python",
   "nbconvert_exporter": "python",
   "pygments_lexer": "ipython3",
   "version": "3.7.4"
  }
 },
 "nbformat": 4,
 "nbformat_minor": 2
}
